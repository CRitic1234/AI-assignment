{
 "cells": [
  {
   "cell_type": "code",
   "execution_count": 1,
   "id": "a2c718db-3afa-447f-9084-a0ca67fd02b9",
   "metadata": {
    "tags": []
   },
   "outputs": [],
   "source": [
    "sentence = \"this is a sample sentence. Hello my name is aditya\"\n",
    "words = sentence.split() #seperating the words from the sentence as individual word"
   ]
  },
  {
   "cell_type": "code",
   "execution_count": 2,
   "id": "0c87f410-29ed-4603-bfdc-da8db42679cf",
   "metadata": {
    "tags": []
   },
   "outputs": [
    {
     "name": "stdout",
     "output_type": "stream",
     "text": [
      "{'this': 1, 'is': 2, 'a': 1, 'sample': 1, 'sentence.': 1, 'Hello': 1, 'my': 1, 'name': 1, 'aditya': 1}\n"
     ]
    }
   ],
   "source": [
    "word_occurence={}  #creating an empty dictionary\n",
    "\n",
    "for word in words:\n",
    "    # print(word)\n",
    "    word_occurence[word]=words.count(word)  #countiong the occurence of a word  and storing it to the dictionary\n",
    "print(word_occurence)    "
   ]
  },
  {
   "cell_type": "code",
   "execution_count": null,
   "id": "a8170d45-df46-4237-aed8-da1a3184835a",
   "metadata": {},
   "outputs": [],
   "source": []
  }
 ],
 "metadata": {
  "kernelspec": {
   "display_name": "Python 3 (ipykernel)",
   "language": "python",
   "name": "python3"
  },
  "language_info": {
   "codemirror_mode": {
    "name": "ipython",
    "version": 3
   },
   "file_extension": ".py",
   "mimetype": "text/x-python",
   "name": "python",
   "nbconvert_exporter": "python",
   "pygments_lexer": "ipython3",
   "version": "3.11.5"
  }
 },
 "nbformat": 4,
 "nbformat_minor": 5
}
