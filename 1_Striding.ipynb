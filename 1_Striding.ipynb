{
 "cells": [
  {
   "cell_type": "code",
   "execution_count": 1,
   "id": "d2f561d7-e64c-43da-aef0-383ef20dd2d1",
   "metadata": {
    "tags": []
   },
   "outputs": [],
   "source": [
    "import numpy as np"
   ]
  },
  {
   "cell_type": "code",
   "execution_count": 2,
   "id": "f95ae942-602f-4c6a-8964-9dfe76d522ad",
   "metadata": {
    "tags": []
   },
   "outputs": [],
   "source": [
    "def strided_matrix(arr, w, s):\n",
    "    #formula = [((arr length - w)/s)] + 1\n",
    "    #length-w gives maxx length of rows, then we divide it by strides and add 1 to get number of rows\n",
    "    #using floor division (//) for getting nearest integer\n",
    "    rows = (len(arr) - w) // s + 1 \n",
    "    #creating a empty array\n",
    "    res = [] \n",
    "    for i in range(rows):\n",
    "        start = i * s\n",
    "        end = start + w\n",
    "        res.append(arr[start:end])\n",
    "    return np.array(res)"
   ]
  },
  {
   "cell_type": "code",
   "execution_count": 3,
   "id": "b5f4852b-7c7a-4586-8642-73c0e670a967",
   "metadata": {
    "tags": []
   },
   "outputs": [
    {
     "name": "stdout",
     "output_type": "stream",
     "text": [
      "[[ 0  1  2  3]\n",
      " [ 2  3  4  5]\n",
      " [ 4  5  6  7]\n",
      " [ 6  7  8  9]\n",
      " [ 8  9 10 11]\n",
      " [10 11 12 13]]\n"
     ]
    }
   ],
   "source": [
    "arr = np.array([0, 1, 2, 3, 4, 5, 6, 7, 8, 9, 10, 11, 12, 13, 14])\n",
    "w = 4\n",
    "s = 2\n",
    "result = strided_matrix(arr, w, s)\n",
    "print(result)"
   ]
  },
  {
   "cell_type": "code",
   "execution_count": null,
   "id": "05048ea5-9993-4464-abad-c4cedfb6bdfe",
   "metadata": {},
   "outputs": [],
   "source": []
  }
 ],
 "metadata": {
  "kernelspec": {
   "display_name": "Python 3 (ipykernel)",
   "language": "python",
   "name": "python3"
  },
  "language_info": {
   "codemirror_mode": {
    "name": "ipython",
    "version": 3
   },
   "file_extension": ".py",
   "mimetype": "text/x-python",
   "name": "python",
   "nbconvert_exporter": "python",
   "pygments_lexer": "ipython3",
   "version": "3.11.5"
  }
 },
 "nbformat": 4,
 "nbformat_minor": 5
}
