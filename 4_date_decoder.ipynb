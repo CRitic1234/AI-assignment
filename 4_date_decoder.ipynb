{
 "cells": [
  {
   "cell_type": "code",
   "execution_count": 1,
   "id": "3759e7a8-87bb-4a29-ae98-fabceef693c5",
   "metadata": {
    "tags": []
   },
   "outputs": [],
   "source": [
    "def date_decoder (date):\n",
    "    month_name=[\"january\", \"february\", \"march\", \"april\", \"may\", \"june\",\"july\",\"august\",\"september\",\"october\",\"november\",\"december\"]\n",
    "    month_num=[1,2,3,4,5,6,7,8,9,10,11,12]\n",
    "    month_dict={x:y for x,y in zip(month_name,month_num)}  #zip() func to patch two lists into a dictionary\n",
    "    # print(\"Month Name and Month Number Dictionary:\\n\",month_dict)\n",
    "\n",
    "    day,month,year=date.split(sep='-')\n",
    "    # print(f\"day={day},month={month},year={year}\")\n",
    "\n",
    "    month=month_dict[month]\n",
    "    # print(month)\n",
    "\n",
    "    integer_year=int(year)   #type casting string to integer\n",
    "    integer_day=int(day)\n",
    "\n",
    "    #correcting the year\n",
    "    if integer_year>24:\n",
    "        integer_year=1900+integer_year\n",
    "    else:\n",
    "        integer_year=2000+integer_year\n",
    "\n",
    "    date_decoded=(integer_day,month,integer_year)\n",
    "    return date_decoded"
   ]
  },
  {
   "cell_type": "code",
   "execution_count": 2,
   "id": "a1984f72-2da1-4bce-97d7-e2993de8d721",
   "metadata": {
    "tags": []
   },
   "outputs": [
    {
     "name": "stdin",
     "output_type": "stream",
     "text": [
      "enter the date in format dd-month_name-year: 12-february-24\n"
     ]
    },
    {
     "name": "stdout",
     "output_type": "stream",
     "text": [
      "(12, 2, 2024)\n"
     ]
    }
   ],
   "source": [
    "#taking string input\n",
    "date=str(input(\"enter the date in format dd-month_name-year:\"))\n",
    "# date=\"8-march-85\"\n",
    "print(date_decoder(date))"
   ]
  },
  {
   "cell_type": "code",
   "execution_count": null,
   "id": "9da6e7ee-a4d7-4e96-b96f-ffb282d1e487",
   "metadata": {},
   "outputs": [],
   "source": []
  }
 ],
 "metadata": {
  "kernelspec": {
   "display_name": "Python 3 (ipykernel)",
   "language": "python",
   "name": "python3"
  },
  "language_info": {
   "codemirror_mode": {
    "name": "ipython",
    "version": 3
   },
   "file_extension": ".py",
   "mimetype": "text/x-python",
   "name": "python",
   "nbconvert_exporter": "python",
   "pygments_lexer": "ipython3",
   "version": "3.11.5"
  }
 },
 "nbformat": 4,
 "nbformat_minor": 5
}
